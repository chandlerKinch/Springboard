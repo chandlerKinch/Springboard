{
 "cells": [
  {
   "cell_type": "markdown",
   "id": "9a0cc60e",
   "metadata": {},
   "source": [
    "# Gotham and Metropolis Tolls Problem"
   ]
  },
  {
   "cell_type": "markdown",
   "id": "67c60189",
   "metadata": {},
   "source": [
    "The neighboring cities of Gotham and Metropolis have complementary circadian rhythms: on\n",
    "weekdays, Ultimate Gotham is most active at night, and Ultimate Metropolis is most active\n",
    "during the day. On weekends, there is reasonable activity in both cities.\n",
    "\n",
    "However, a toll bridge, with a two way toll, between the two cities causes driver partners to tend\n",
    "to be exclusive to each city. The Ultimate managers of city operations for the two cities have\n",
    "proposed an experiment to encourage driver partners to be available in both cities, by\n",
    "reimbursing all toll costs.\n"
   ]
  },
  {
   "cell_type": "markdown",
   "id": "eee337ad",
   "metadata": {},
   "source": [
    "## Question 1 \n",
    "What would you choose as the key measure of success of this experiment in\n",
    "encouraging driver partners to serve both cities, and why would you choose this metric?\n"
   ]
  },
  {
   "cell_type": "markdown",
   "id": "fa1d646f",
   "metadata": {},
   "source": [
    "I would choose passenger waiting time in whichever city has the higher average as the key metric. Reimbursing drivers and encouraging them to serve both cities, thereby increasing driver availablity. This should in turn drop passenger wait times as there should be more drivers available across both cities. "
   ]
  },
  {
   "cell_type": "markdown",
   "id": "947fe147",
   "metadata": {},
   "source": [
    "## Question 2\n",
    "Describe a practical experiment you would design to compare the effectiveness of the\n",
    "proposed change in relation to the key measure of success. Please provide details on:\n",
    "* How you will implement the experiment.\n",
    "* What statistical test(s) you will conduct to verify the significance of the observation.\n",
    "* How you would interpret the results and provide recommendations to the city operations team along with any caveats."
   ]
  },
  {
   "cell_type": "markdown",
   "id": "852ab3b8",
   "metadata": {},
   "source": [
    "A simple AB test should do well in this situation. Once the changed is implemented, the data can be examined to see if a difference was made in wait times for the choosen city. The t-test will then be used to determine if this difference is statistically significant or just due to chance. Depending on the significance of the results, recommendations could then be communicated through a presentation to city officals. "
   ]
  }
 ],
 "metadata": {
  "kernelspec": {
   "display_name": "Python 3",
   "language": "python",
   "name": "python3"
  },
  "language_info": {
   "codemirror_mode": {
    "name": "ipython",
    "version": 3
   },
   "file_extension": ".py",
   "mimetype": "text/x-python",
   "name": "python",
   "nbconvert_exporter": "python",
   "pygments_lexer": "ipython3",
   "version": "3.8.8"
  }
 },
 "nbformat": 4,
 "nbformat_minor": 5
}
